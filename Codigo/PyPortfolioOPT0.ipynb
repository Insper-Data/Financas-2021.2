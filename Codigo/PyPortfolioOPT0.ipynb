{
 "cells": [
  {
   "cell_type": "code",
   "execution_count": 1,
   "id": "954ae8f8-b75a-4e2b-b963-a9ff498c46da",
   "metadata": {},
   "outputs": [
    {
     "name": "stdout",
     "output_type": "stream",
     "text": [
      "Collecting PyPortfolioOpt\n",
      "  Downloading PyPortfolioOpt-1.4.2-py3-none-any.whl (60 kB)\n",
      "\u001b[K     |████████████████████████████████| 60 kB 5.9 MB/s  eta 0:00:01\n",
      "\u001b[?25hRequirement already satisfied: pandas>=0.19 in /opt/anaconda3/lib/python3.8/site-packages (from PyPortfolioOpt) (1.2.4)\n",
      "Requirement already satisfied: scipy<2.0,>=1.3 in /opt/anaconda3/lib/python3.8/site-packages (from PyPortfolioOpt) (1.6.2)\n",
      "Collecting cvxpy<2.0.0,>=1.1.10\n",
      "  Downloading cvxpy-1.1.15-cp38-cp38-macosx_10_9_x86_64.whl (869 kB)\n",
      "\u001b[K     |████████████████████████████████| 869 kB 24.8 MB/s eta 0:00:01\n",
      "\u001b[?25hRequirement already satisfied: numpy<2.0,>=1.12 in /opt/anaconda3/lib/python3.8/site-packages (from PyPortfolioOpt) (1.20.1)\n",
      "Collecting ecos>=2\n",
      "  Downloading ecos-2.0.7.post1.tar.gz (126 kB)\n",
      "\u001b[K     |████████████████████████████████| 126 kB 70.6 MB/s eta 0:00:01\n",
      "\u001b[?25hCollecting osqp>=0.4.1\n",
      "  Downloading osqp-0.6.2.post0-cp38-cp38-macosx_10_9_x86_64.whl (164 kB)\n",
      "\u001b[K     |████████████████████████████████| 164 kB 50.9 MB/s eta 0:00:01\n",
      "\u001b[?25hCollecting scs>=1.1.6\n",
      "  Downloading scs-2.1.4.tar.gz (6.6 MB)\n",
      "\u001b[K     |████████████████████████████████| 6.6 MB 35.8 MB/s eta 0:00:01\n",
      "\u001b[?25h  Installing build dependencies ... \u001b[?25ldone\n",
      "\u001b[?25h  Getting requirements to build wheel ... \u001b[?25ldone\n",
      "\u001b[?25h    Preparing wheel metadata ... \u001b[?25ldone\n",
      "\u001b[?25hCollecting qdldl\n",
      "  Downloading qdldl-0.1.5.post0-cp38-cp38-macosx_10_9_x86_64.whl (87 kB)\n",
      "\u001b[K     |████████████████████████████████| 87 kB 9.5 MB/s  eta 0:00:01\n",
      "\u001b[?25hRequirement already satisfied: python-dateutil>=2.7.3 in /opt/anaconda3/lib/python3.8/site-packages (from pandas>=0.19->PyPortfolioOpt) (2.8.1)\n",
      "Requirement already satisfied: pytz>=2017.3 in /opt/anaconda3/lib/python3.8/site-packages (from pandas>=0.19->PyPortfolioOpt) (2021.1)\n",
      "Requirement already satisfied: six>=1.5 in /opt/anaconda3/lib/python3.8/site-packages (from python-dateutil>=2.7.3->pandas>=0.19->PyPortfolioOpt) (1.15.0)\n",
      "Building wheels for collected packages: ecos, scs\n",
      "  Building wheel for ecos (setup.py) ... \u001b[?25ldone\n",
      "\u001b[?25h  Created wheel for ecos: filename=ecos-2.0.7.post1-cp38-cp38-macosx_10_9_x86_64.whl size=83812 sha256=e43ac3a0de52839ff8e74573421023e73eb1601588a36220184045b04d3f4573\n",
      "  Stored in directory: /Users/mariaclara/Library/Caches/pip/wheels/c3/c1/ce/b551b0b3a40c990e1da2ec9aecff62f7c2d43cab8766368e82\n",
      "  Building wheel for scs (PEP 517) ... \u001b[?25ldone\n",
      "\u001b[?25h  Created wheel for scs: filename=scs-2.1.4-cp38-cp38-macosx_11_0_x86_64.whl size=119717 sha256=e2cd703ff5747db144d2372f92d156f5e5c6d5f934e37d179350dcaf54fe730e\n",
      "  Stored in directory: /Users/mariaclara/Library/Caches/pip/wheels/f9/1b/79/5e399d671778e7a7770bc72053a60cac6c0a2abc3f548cd909\n",
      "Successfully built ecos scs\n",
      "Installing collected packages: qdldl, scs, osqp, ecos, cvxpy, PyPortfolioOpt\n",
      "Successfully installed PyPortfolioOpt-1.4.2 cvxpy-1.1.15 ecos-2.0.7.post1 osqp-0.6.2.post0 qdldl-0.1.5.post0 scs-2.1.4\n",
      "Note: you may need to restart the kernel to use updated packages.\n"
     ]
    }
   ],
   "source": [
    "pip install PyPortfolioOpt"
   ]
  },
  {
   "cell_type": "code",
   "execution_count": 11,
   "id": "3d5f5a91-bde5-4d5f-9e3d-764024e0d184",
   "metadata": {},
   "outputs": [],
   "source": [
    "import pandas as pd\n",
    "import pandas as pd \n",
    "import numpy as np\n",
    "import matplotlib.pyplot as plt\n",
    "import scipy.optimize as sco\n",
    "import seaborn as sn\n",
    "import datetime\n",
    "from math import sqrt\n",
    "from pandas_datareader import data as dt\n",
    "from pypfopt import EfficientFrontier\n",
    "from pypfopt import risk_models\n",
    "from pypfopt import expected_returns"
   ]
  },
  {
   "cell_type": "markdown",
   "id": "039dfd11-59aa-498d-b9a3-d892b2d30dd0",
   "metadata": {},
   "source": [
    "## **Base de Dados**"
   ]
  },
  {
   "cell_type": "code",
   "execution_count": 12,
   "id": "3c0f14e7-4f3c-49db-8c05-50ca53643bf4",
   "metadata": {},
   "outputs": [],
   "source": [
    "# Definindo o dataframe de dados de preço de ativos do portfólio:\n",
    "precos = pd.DataFrame()\n",
    "\n",
    "# Definindo o período a ser utilizado\n",
    "inicio = datetime.datetime(2018, 1, 1)\n",
    "final = datetime.datetime(2021, 7, 1)\n",
    "\n",
    "# Definindo os ativos a serem utilizados (Indice BOVESPA):\n",
    "acoes = [\"ABEV3.SA\" , \"AZUL4.SA\" , \"B3SA3.SA\" , \"BBAS3.SA\" , \"BBDC3.SA\",  \"BBDC4.SA\" , \"BBSE3.SA\" , \"BEEF3.SA\", \n",
    "\"BPAC11.SA\", \"BRAP4.SA\" , \"BRDT3.SA\" , \"BRFS3.SA\" , \"BRKM5.SA\" , \"BRML3.SA\" , \"CCRO3.SA\" , \"CIEL3.SA\" ,\n",
    "\"CMIG4.SA\"  ,\"COGN3.SA\" , \"CPFE3.SA\" , \"CPLE6.SA\" , \"CRFB3.SA\" , \"CSAN3.SA\" , \"CSNA3.SA\" , \"CVCB3.SA\" , \"CYRE3.SA\" ,\n",
    "\"ECOR3.SA\"  ,\"EGIE3.SA\" , \"ELET3.SA\" , \"ELET6.SA\", \"EMBR3.SA\" , \"ENBR3.SA\" , \"ENEV3.SA\" , \"ENGI11.SA\", \"EQTL3.SA\" ,\n",
    "\"EZTC3.SA\"  ,\"FLRY3.SA\" , \"GGBR4.SA\" , \"GNDI3.SA\" , \"GOAU4.SA\" , \"GOLL4.SA\" , \"HAPV3.SA\" , \"HGTX3.SA\" , \"HYPE3.SA\" ,\n",
    "\"IGTA3.SA\"  ,\"IRBR3.SA\" , \"ITSA4.SA\" , \"ITUB4.SA\" , \"JBSS3.SA\" , \"JHSF3.SA\" , \"KLBN11.SA\", \"LAME4.SA\" , \"LCAM3.SA\" ,\n",
    "\"LREN3.SA\"  ,\"MGLU3.SA\" , \"MRFG3.SA\" , \"MRVE3.SA\" , \"MULT3.SA\" , \"NTCO3.SA\" , \"PCAR3.SA\" , \"PETR3.SA\" , \"PETR4.SA\" ,\n",
    "\"PRIO3.SA\"  ,\"QUAL3.SA\" , \"RADL3.SA\" , \"RAIL3.SA\" , \"RENT3.SA\" , \"SANB11.SA\", \"SBSP3.SA\" , \"SULA11.SA\", \"SUZB3.SA\" ,\n",
    "\"TAEE11.SA\" , \"TOTS3.SA\" , \"UGPA3.SA\" , \"USIM5.SA\" , \"VALE3.SA\" , \"VIVT3.SA\" ,  \"WEGE3.SA\" ,\"YDUQ3.SA\"]\n",
    "\n",
    "\n",
    "for i in acoes:\n",
    "    precos[i] = dt.get_data_yahoo(i, start = inicio, end = final)['Close']\n",
    "    \n",
    "precos.dropna(inplace=True)"
   ]
  },
  {
   "cell_type": "code",
   "execution_count": 25,
   "id": "8df21a89-5906-4d70-8ca6-4415f713477c",
   "metadata": {},
   "outputs": [],
   "source": [
    "# Calculando retornos esperados e covariancias\n",
    "\n",
    "mu = expected_returns.mean_historical_return(precos)\n",
    "S = risk_models.sample_cov(precos)"
   ]
  },
  {
   "cell_type": "code",
   "execution_count": 32,
   "id": "d86f267b-7e98-478d-9723-e727e46a59b8",
   "metadata": {},
   "outputs": [
    {
     "name": "stdout",
     "output_type": "stream",
     "text": [
      "OrderedDict([('ABEV3.SA', 0.0), ('AZUL4.SA', 0.0), ('B3SA3.SA', 0.0), ('BBAS3.SA', 0.0), ('BBDC3.SA', 0.0), ('BBDC4.SA', 0.0), ('BBSE3.SA', 0.0), ('BEEF3.SA', 0.0), ('BPAC11.SA', 0.0), ('BRAP4.SA', 0.0), ('BRDT3.SA', 0.0), ('BRFS3.SA', 0.0), ('BRKM5.SA', 0.0), ('BRML3.SA', 0.0), ('CCRO3.SA', 0.0), ('CIEL3.SA', 0.0), ('CMIG4.SA', 0.0), ('COGN3.SA', 0.0), ('CPFE3.SA', 0.0), ('CPLE6.SA', 0.0), ('CRFB3.SA', 0.0), ('CSAN3.SA', 0.0), ('CSNA3.SA', 0.5242), ('CVCB3.SA', 0.0), ('CYRE3.SA', 0.0), ('ECOR3.SA', 0.0), ('EGIE3.SA', 0.0), ('ELET3.SA', 0.0), ('ELET6.SA', 0.0), ('EMBR3.SA', 0.0), ('ENBR3.SA', 0.0), ('ENEV3.SA', 0.0), ('ENGI11.SA', 0.0), ('EQTL3.SA', 0.0), ('EZTC3.SA', 0.0), ('FLRY3.SA', 0.0), ('GGBR4.SA', 0.0), ('GNDI3.SA', 0.0), ('GOAU4.SA', 0.0), ('GOLL4.SA', 0.0), ('HAPV3.SA', 0.0), ('HGTX3.SA', 0.0), ('HYPE3.SA', 0.0), ('IGTA3.SA', 0.0), ('IRBR3.SA', 0.0), ('ITSA4.SA', 0.0), ('ITUB4.SA', 0.0), ('JBSS3.SA', 0.0), ('JHSF3.SA', 0.0), ('KLBN11.SA', 0.0), ('LAME4.SA', 0.0), ('LCAM3.SA', 0.0), ('LREN3.SA', 0.0), ('MGLU3.SA', 0.0), ('MRFG3.SA', 0.0), ('MRVE3.SA', 0.0), ('MULT3.SA', 0.0), ('NTCO3.SA', 0.0), ('PCAR3.SA', 0.0), ('PETR3.SA', 0.0), ('PETR4.SA', 0.0), ('PRIO3.SA', 0.18399), ('QUAL3.SA', 0.0), ('RADL3.SA', 0.0), ('RAIL3.SA', 0.0), ('RENT3.SA', 0.0), ('SANB11.SA', 0.0), ('SBSP3.SA', 0.0), ('SULA11.SA', 0.0), ('SUZB3.SA', 0.02248), ('TAEE11.SA', 0.0), ('TOTS3.SA', 0.0), ('UGPA3.SA', 0.0), ('USIM5.SA', 0.0), ('VALE3.SA', 0.0), ('VIVT3.SA', 0.0), ('WEGE3.SA', 0.26933), ('YDUQ3.SA', 0.0)])\n",
      "Expected annual return: 102.3%\n",
      "Annual volatility: 56.8%\n",
      "Sharpe Ratio: 1.77\n"
     ]
    },
    {
     "data": {
      "text/plain": [
       "(1.0227418076140233, 0.5679029364981789, 1.7656922392357428)"
      ]
     },
     "execution_count": 32,
     "metadata": {},
     "output_type": "execute_result"
    }
   ],
   "source": [
    "# Optimize for maximal Sharpe ratio\n",
    "\n",
    "ef = EfficientFrontier(mu, S)\n",
    "raw_weights = ef.max_sharpe()\n",
    "ef.save_weights_to_file(\"weights.csv\")  # saves to file\n",
    "print(cleaned_weights)\n",
    "ef.portfolio_performance(verbose=True)"
   ]
  },
  {
   "cell_type": "markdown",
   "id": "93f207bc-fec4-4201-935c-4d1852ed89b5",
   "metadata": {},
   "source": [
    "This is interesting but not useful in itself. However, PyPortfolioOpt provides a method which allows you to convert the above continuous weights to an actual allocation that you could buy. Just enter the most recent prices, and the desired portfolio size ($10,000 in this example):"
   ]
  },
  {
   "cell_type": "code",
   "execution_count": 33,
   "id": "f8f2a1a1-524c-44c8-8d22-c4286a74f889",
   "metadata": {},
   "outputs": [],
   "source": [
    "from pypfopt.discrete_allocation import DiscreteAllocation, get_latest_prices\n",
    "\n",
    "\n",
    "latest_prices = get_latest_prices(precos)"
   ]
  },
  {
   "cell_type": "code",
   "execution_count": 35,
   "id": "3632b3e6-47f9-4dff-a8ae-e0e6c381375b",
   "metadata": {},
   "outputs": [
    {
     "name": "stdout",
     "output_type": "stream",
     "text": [
      "Discrete allocation: {'CSNA3.SA': 120, 'WEGE3.SA': 79, 'PRIO3.SA': 89, 'SUZB3.SA': 4}\n",
      "Funds remaining: $13.27\n"
     ]
    }
   ],
   "source": [
    "da = DiscreteAllocation(cleaned_weights, latest_prices, total_portfolio_value=10000)\n",
    "allocation, leftover = da.greedy_portfolio()\n",
    "print(\"Discrete allocation:\", allocation)\n",
    "print(\"Funds remaining: ${:.2f}\".format(leftover))"
   ]
  },
  {
   "cell_type": "markdown",
   "id": "fc54e76e-997b-4943-8fe4-0e67d9315c9e",
   "metadata": {},
   "source": [
    "### **Adding constraints or different objectives**"
   ]
  },
  {
   "cell_type": "markdown",
   "id": "c6c4a25f-5edd-45e2-b583-feb876943ea4",
   "metadata": {},
   "source": [
    "**Long/short:** by default all of the mean-variance optimization methods in PyPortfolioOpt are long-only, but they can be initialised to allow for short positions by changing the weight bounds:"
   ]
  },
  {
   "cell_type": "code",
   "execution_count": 37,
   "id": "877be6aa-3fe1-4a05-804e-f7057753600b",
   "metadata": {},
   "outputs": [],
   "source": [
    "ef = EfficientFrontier(mu, S, weight_bounds=(-1, 1))"
   ]
  },
  {
   "cell_type": "markdown",
   "id": "b231e310-de7f-4c5e-9536-192335861634",
   "metadata": {},
   "source": [
    "**Market neutrality:** for the efficient_risk and efficient_return methods, PyPortfolioOpt provides an option to form a market-neutral portfolio (i.e weights sum to zero). This is not possible for the max Sharpe portfolio and the min volatility portfolio because in those cases because they are not invariant with respect to leverage. Market neutrality requires negative weights:\n"
   ]
  },
  {
   "cell_type": "code",
   "execution_count": 38,
   "id": "65d09865-752a-45c6-9eb2-31faaf3cb118",
   "metadata": {},
   "outputs": [
    {
     "data": {
      "text/plain": [
       "OrderedDict([('ABEV3.SA', 0.0115334063435772),\n",
       "             ('AZUL4.SA', 0.001575992721007),\n",
       "             ('B3SA3.SA', -0.0171560881689056),\n",
       "             ('BBAS3.SA', -0.0313816727089338),\n",
       "             ('BBDC3.SA', -0.0011384519320395),\n",
       "             ('BBDC4.SA', 0.0169242388423836),\n",
       "             ('BBSE3.SA', -0.0223979675065817),\n",
       "             ('BEEF3.SA', -0.0383557315147629),\n",
       "             ('BPAC11.SA', 0.0313729081681178),\n",
       "             ('BRAP4.SA', 0.011051553229956),\n",
       "             ('BRDT3.SA', 0.0162855296997171),\n",
       "             ('BRFS3.SA', -0.0010266853590846),\n",
       "             ('BRKM5.SA', 0.013353879029201),\n",
       "             ('BRML3.SA', -0.017311283193513),\n",
       "             ('CCRO3.SA', -0.0014726731359684),\n",
       "             ('CIEL3.SA', -0.0138541550080786),\n",
       "             ('CMIG4.SA', 0.0216207349790795),\n",
       "             ('COGN3.SA', -0.0122067546220977),\n",
       "             ('CPFE3.SA', -0.0199991046111943),\n",
       "             ('CPLE6.SA', -0.0136911324434975),\n",
       "             ('CRFB3.SA', 0.0008412392720908),\n",
       "             ('CSAN3.SA', 0.021610554966237),\n",
       "             ('CSNA3.SA', 0.026179436330895),\n",
       "             ('CVCB3.SA', 0.0010796370397721),\n",
       "             ('CYRE3.SA', -0.001006323203567),\n",
       "             ('ECOR3.SA', 0.0014086664561621),\n",
       "             ('EGIE3.SA', -0.0263456390203556),\n",
       "             ('ELET3.SA', -0.0007991285805003),\n",
       "             ('ELET6.SA', 0.0109046932957421),\n",
       "             ('EMBR3.SA', 0.000235614961276),\n",
       "             ('ENBR3.SA', -0.0123775007934803),\n",
       "             ('ENEV3.SA', 0.0223087584512838),\n",
       "             ('ENGI11.SA', -0.0024616447009211),\n",
       "             ('EQTL3.SA', 0.038656981614353),\n",
       "             ('EZTC3.SA', -0.0149993940549463),\n",
       "             ('FLRY3.SA', -0.0108363343444624),\n",
       "             ('GGBR4.SA', -0.0044844786223719),\n",
       "             ('GNDI3.SA', -0.0100527618694203),\n",
       "             ('GOAU4.SA', -0.0170719498424435),\n",
       "             ('GOLL4.SA', -0.0063343881496063),\n",
       "             ('HAPV3.SA', 0.0116207901813791),\n",
       "             ('HGTX3.SA', 0.0042571323626447),\n",
       "             ('HYPE3.SA', -0.0052990546863683),\n",
       "             ('IGTA3.SA', 0.0030773747093695),\n",
       "             ('IRBR3.SA', -0.0012762575715489),\n",
       "             ('ITSA4.SA', -0.0390273161731772),\n",
       "             ('ITUB4.SA', 0.0401481922312763),\n",
       "             ('JBSS3.SA', -0.004296129211126),\n",
       "             ('JHSF3.SA', 0.0137234537173981),\n",
       "             ('KLBN11.SA', -0.0121394663579429),\n",
       "             ('LAME4.SA', -0.0134333453760028),\n",
       "             ('LCAM3.SA', -0.0108207053723242),\n",
       "             ('LREN3.SA', 0.0029617788883491),\n",
       "             ('MGLU3.SA', 0.021358301740937),\n",
       "             ('MRFG3.SA', 0.028793949378181),\n",
       "             ('MRVE3.SA', -0.0113454633536046),\n",
       "             ('MULT3.SA', 0.0171355920335695),\n",
       "             ('NTCO3.SA', 0.0024046183295274),\n",
       "             ('PCAR3.SA', -0.0047024660929192),\n",
       "             ('PETR3.SA', -0.0158870584467343),\n",
       "             ('PETR4.SA', 0.0043981547055206),\n",
       "             ('PRIO3.SA', 0.0102526293348646),\n",
       "             ('QUAL3.SA', -0.0128023907181021),\n",
       "             ('RADL3.SA', 0.0105885949088175),\n",
       "             ('RAIL3.SA', -0.0161575954670786),\n",
       "             ('RENT3.SA', 0.0058448304797125),\n",
       "             ('SANB11.SA', -0.0006850475140083),\n",
       "             ('SBSP3.SA', -0.0250629131942205),\n",
       "             ('SULA11.SA', -0.017693071210667),\n",
       "             ('SUZB3.SA', 0.0027849263781294),\n",
       "             ('TAEE11.SA', 0.0477717729428216),\n",
       "             ('TOTS3.SA', 0.0121279599489757),\n",
       "             ('UGPA3.SA', -0.0131580351114327),\n",
       "             ('USIM5.SA', 0.0028975540155784),\n",
       "             ('VALE3.SA', -0.0021061343010333),\n",
       "             ('VIVT3.SA', -0.0051779090119666),\n",
       "             ('WEGE3.SA', 0.0178042053172243),\n",
       "             ('YDUQ3.SA', 0.0009359655518629)])"
      ]
     },
     "execution_count": 38,
     "metadata": {},
     "output_type": "execute_result"
    }
   ],
   "source": [
    "ef.efficient_return(target_return=0.2, market_neutral=True)"
   ]
  },
  {
   "cell_type": "markdown",
   "id": "e012201d-abcb-439d-904d-f4dda92cccce",
   "metadata": {},
   "source": [
    "**Minimum/maximum position size:** it may be the case that you want no security to form more than 10% of your portfolio. This is easy to encode:"
   ]
  },
  {
   "cell_type": "code",
   "execution_count": 39,
   "id": "48d19723-822f-4b59-a915-9f3a6c374dc1",
   "metadata": {},
   "outputs": [],
   "source": [
    "ef = EfficientFrontier(mu, S, weight_bounds=(0, 0.1))"
   ]
  },
  {
   "cell_type": "code",
   "execution_count": 40,
   "id": "6b10b48f-21ec-4939-9aae-187e76e1ff97",
   "metadata": {},
   "outputs": [
    {
     "ename": "NameError",
     "evalue": "name 'objective_functions' is not defined",
     "output_type": "error",
     "traceback": [
      "\u001b[0;31m---------------------------------------------------------------------------\u001b[0m",
      "\u001b[0;31mNameError\u001b[0m                                 Traceback (most recent call last)",
      "\u001b[0;32m<ipython-input-40-13dcb121f7fa>\u001b[0m in \u001b[0;36m<module>\u001b[0;34m\u001b[0m\n\u001b[1;32m      1\u001b[0m \u001b[0mef\u001b[0m \u001b[0;34m=\u001b[0m \u001b[0mEfficientFrontier\u001b[0m\u001b[0;34m(\u001b[0m\u001b[0mmu\u001b[0m\u001b[0;34m,\u001b[0m \u001b[0mS\u001b[0m\u001b[0;34m)\u001b[0m\u001b[0;34m\u001b[0m\u001b[0;34m\u001b[0m\u001b[0m\n\u001b[0;32m----> 2\u001b[0;31m \u001b[0mef\u001b[0m\u001b[0;34m.\u001b[0m\u001b[0madd_objective\u001b[0m\u001b[0;34m(\u001b[0m\u001b[0mobjective_functions\u001b[0m\u001b[0;34m.\u001b[0m\u001b[0mL2_reg\u001b[0m\u001b[0;34m,\u001b[0m \u001b[0mgamma\u001b[0m\u001b[0;34m=\u001b[0m\u001b[0;36m1\u001b[0m\u001b[0;34m)\u001b[0m\u001b[0;34m\u001b[0m\u001b[0;34m\u001b[0m\u001b[0m\n\u001b[0m\u001b[1;32m      3\u001b[0m \u001b[0mef\u001b[0m\u001b[0;34m.\u001b[0m\u001b[0mmax_sharpe\u001b[0m\u001b[0;34m(\u001b[0m\u001b[0;34m)\u001b[0m\u001b[0;34m\u001b[0m\u001b[0;34m\u001b[0m\u001b[0m\n",
      "\u001b[0;31mNameError\u001b[0m: name 'objective_functions' is not defined"
     ]
    }
   ],
   "source": [
    "ef = EfficientFrontier(mu, S)\n",
    "ef.add_objective(objective_functions.L2_reg, gamma=1)\n",
    "ef.max_sharpe()"
   ]
  },
  {
   "cell_type": "code",
   "execution_count": null,
   "id": "e8d53981-a221-4dca-b436-e3d0db066063",
   "metadata": {},
   "outputs": [],
   "source": []
  }
 ],
 "metadata": {
  "kernelspec": {
   "display_name": "Python 3",
   "language": "python",
   "name": "python3"
  },
  "language_info": {
   "codemirror_mode": {
    "name": "ipython",
    "version": 3
   },
   "file_extension": ".py",
   "mimetype": "text/x-python",
   "name": "python",
   "nbconvert_exporter": "python",
   "pygments_lexer": "ipython3",
   "version": "3.8.8"
  }
 },
 "nbformat": 4,
 "nbformat_minor": 5
}
