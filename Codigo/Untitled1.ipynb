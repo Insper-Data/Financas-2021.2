{
 "cells": [
  {
   "cell_type": "code",
   "execution_count": 1,
   "id": "4c224361-7548-45ff-b437-8a4debf35db9",
   "metadata": {},
   "outputs": [
    {
     "name": "stdout",
     "output_type": "stream",
     "text": [
      "Collecting PyPortfolioOpt\n",
      "  Using cached PyPortfolioOpt-1.4.2-py3-none-any.whl (60 kB)\n",
      "Requirement already satisfied: scipy<2.0,>=1.3 in c:\\users\\gabi\\anaconda3\\lib\\site-packages (from PyPortfolioOpt) (1.6.2)\n",
      "Requirement already satisfied: pandas>=0.19 in c:\\users\\gabi\\anaconda3\\lib\\site-packages (from PyPortfolioOpt) (1.2.4)\n",
      "Requirement already satisfied: numpy<2.0,>=1.12 in c:\\users\\gabi\\anaconda3\\lib\\site-packages (from PyPortfolioOpt) (1.20.1)\n",
      "Collecting cvxpy<2.0.0,>=1.1.10\n",
      "  Using cached cvxpy-1.1.15-cp38-cp38-win_amd64.whl (847 kB)\n",
      "Collecting ecos>=2\n",
      "  Using cached ecos-2.0.7.post1.tar.gz (126 kB)\n",
      "Collecting scs>=1.1.6\n",
      "  Using cached scs-2.1.4.tar.gz (6.6 MB)\n",
      "  Installing build dependencies: started\n",
      "  Installing build dependencies: finished with status 'done'\n",
      "  Getting requirements to build wheel: started\n",
      "  Getting requirements to build wheel: still running...\n",
      "  Getting requirements to build wheel: finished with status 'done'\n",
      "    Preparing wheel metadata: started\n",
      "    Preparing wheel metadata: finished with status 'done'\n",
      "Collecting osqp>=0.4.1\n",
      "  Using cached osqp-0.6.2.post0-cp38-cp38-win_amd64.whl (162 kB)\n",
      "Collecting qdldl\n",
      "  Using cached qdldl-0.1.5.post0-cp38-cp38-win_amd64.whl (74 kB)\n",
      "Requirement already satisfied: pytz>=2017.3 in c:\\users\\gabi\\anaconda3\\lib\\site-packages (from pandas>=0.19->PyPortfolioOpt) (2021.1)\n",
      "Requirement already satisfied: python-dateutil>=2.7.3 in c:\\users\\gabi\\anaconda3\\lib\\site-packages (from pandas>=0.19->PyPortfolioOpt) (2.8.1)\n",
      "Requirement already satisfied: six>=1.5 in c:\\users\\gabi\\anaconda3\\lib\\site-packages (from python-dateutil>=2.7.3->pandas>=0.19->PyPortfolioOpt) (1.15.0)\n",
      "Building wheels for collected packages: ecos, scs\n",
      "  Building wheel for ecos (setup.py): started\n",
      "  Building wheel for ecos (setup.py): finished with status 'done'\n",
      "  Created wheel for ecos: filename=ecos-2.0.7.post1-cp38-cp38-win_amd64.whl size=68498 sha256=76b98aa09696f1b53b8d0d9363e65036a55cb4c68e485754eafd403ddcce9c49\n",
      "  Stored in directory: c:\\users\\gabi\\appdata\\local\\pip\\cache\\wheels\\c3\\c1\\ce\\b551b0b3a40c990e1da2ec9aecff62f7c2d43cab8766368e82\n",
      "  Building wheel for scs (PEP 517): started\n",
      "  Building wheel for scs (PEP 517): still running...\n",
      "  Building wheel for scs (PEP 517): finished with status 'done'\n",
      "  Created wheel for scs: filename=scs-2.1.4-cp38-cp38-win_amd64.whl size=120627 sha256=f597c40e9b33e797c717ca60cf17bc0c76faa2d720210f5b336e98358f2313c5\n",
      "  Stored in directory: c:\\users\\gabi\\appdata\\local\\pip\\cache\\wheels\\f9\\1b\\79\\5e399d671778e7a7770bc72053a60cac6c0a2abc3f548cd909\n",
      "Successfully built ecos scs\n",
      "Installing collected packages: qdldl, scs, osqp, ecos, cvxpy, PyPortfolioOpt\n",
      "Successfully installed PyPortfolioOpt-1.4.2 cvxpy-1.1.15 ecos-2.0.7.post1 osqp-0.6.2.post0 qdldl-0.1.5.post0 scs-2.1.4\n"
     ]
    }
   ],
   "source": [
    "!pip install PyPortfolioOpt"
   ]
  },
  {
   "cell_type": "code",
   "execution_count": 2,
   "id": "737da2cd-b641-41e2-8b24-a145e83f78b3",
   "metadata": {},
   "outputs": [],
   "source": [
    "import pandas as pd\n",
    "from pypfopt import EfficientFrontier\n",
    "from pypfopt import risk_models\n",
    "from pypfopt import expected_returns"
   ]
  },
  {
   "cell_type": "code",
   "execution_count": null,
   "id": "aa0d62f0-2d6b-4523-af35-98b3817644cc",
   "metadata": {},
   "outputs": [],
   "source": []
  }
 ],
 "metadata": {
  "kernelspec": {
   "display_name": "Python 3",
   "language": "python",
   "name": "python3"
  },
  "language_info": {
   "codemirror_mode": {
    "name": "ipython",
    "version": 3
   },
   "file_extension": ".py",
   "mimetype": "text/x-python",
   "name": "python",
   "nbconvert_exporter": "python",
   "pygments_lexer": "ipython3",
   "version": "3.8.8"
  }
 },
 "nbformat": 4,
 "nbformat_minor": 5
}
