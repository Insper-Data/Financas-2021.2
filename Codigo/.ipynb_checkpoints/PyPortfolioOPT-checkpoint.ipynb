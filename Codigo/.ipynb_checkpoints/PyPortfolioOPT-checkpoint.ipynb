{
 "cells": [
  {
   "cell_type": "code",
   "execution_count": 1,
   "id": "4c224361-7548-45ff-b437-8a4debf35db9",
   "metadata": {},
   "outputs": [
    {
     "name": "stdout",
     "output_type": "stream",
     "text": [
      "Collecting PyPortfolioOpt\n",
      "  Using cached PyPortfolioOpt-1.4.2-py3-none-any.whl (60 kB)\n",
      "Requirement already satisfied: scipy<2.0,>=1.3 in c:\\users\\gabi\\anaconda3\\lib\\site-packages (from PyPortfolioOpt) (1.6.2)\n",
      "Requirement already satisfied: pandas>=0.19 in c:\\users\\gabi\\anaconda3\\lib\\site-packages (from PyPortfolioOpt) (1.2.4)\n",
      "Requirement already satisfied: numpy<2.0,>=1.12 in c:\\users\\gabi\\anaconda3\\lib\\site-packages (from PyPortfolioOpt) (1.20.1)\n",
      "Collecting cvxpy<2.0.0,>=1.1.10\n",
      "  Using cached cvxpy-1.1.15-cp38-cp38-win_amd64.whl (847 kB)\n",
      "Collecting ecos>=2\n",
      "  Using cached ecos-2.0.7.post1.tar.gz (126 kB)\n",
      "Collecting scs>=1.1.6\n",
      "  Using cached scs-2.1.4.tar.gz (6.6 MB)\n",
      "  Installing build dependencies: started\n",
      "  Installing build dependencies: finished with status 'done'\n",
      "  Getting requirements to build wheel: started\n",
      "  Getting requirements to build wheel: still running...\n",
      "  Getting requirements to build wheel: finished with status 'done'\n",
      "    Preparing wheel metadata: started\n",
      "    Preparing wheel metadata: finished with status 'done'\n",
      "Collecting osqp>=0.4.1\n",
      "  Using cached osqp-0.6.2.post0-cp38-cp38-win_amd64.whl (162 kB)\n",
      "Collecting qdldl\n",
      "  Using cached qdldl-0.1.5.post0-cp38-cp38-win_amd64.whl (74 kB)\n",
      "Requirement already satisfied: pytz>=2017.3 in c:\\users\\gabi\\anaconda3\\lib\\site-packages (from pandas>=0.19->PyPortfolioOpt) (2021.1)\n",
      "Requirement already satisfied: python-dateutil>=2.7.3 in c:\\users\\gabi\\anaconda3\\lib\\site-packages (from pandas>=0.19->PyPortfolioOpt) (2.8.1)\n",
      "Requirement already satisfied: six>=1.5 in c:\\users\\gabi\\anaconda3\\lib\\site-packages (from python-dateutil>=2.7.3->pandas>=0.19->PyPortfolioOpt) (1.15.0)\n",
      "Building wheels for collected packages: ecos, scs\n",
      "  Building wheel for ecos (setup.py): started\n",
      "  Building wheel for ecos (setup.py): finished with status 'done'\n",
      "  Created wheel for ecos: filename=ecos-2.0.7.post1-cp38-cp38-win_amd64.whl size=68498 sha256=76b98aa09696f1b53b8d0d9363e65036a55cb4c68e485754eafd403ddcce9c49\n",
      "  Stored in directory: c:\\users\\gabi\\appdata\\local\\pip\\cache\\wheels\\c3\\c1\\ce\\b551b0b3a40c990e1da2ec9aecff62f7c2d43cab8766368e82\n",
      "  Building wheel for scs (PEP 517): started\n",
      "  Building wheel for scs (PEP 517): still running...\n",
      "  Building wheel for scs (PEP 517): finished with status 'done'\n",
      "  Created wheel for scs: filename=scs-2.1.4-cp38-cp38-win_amd64.whl size=120627 sha256=f597c40e9b33e797c717ca60cf17bc0c76faa2d720210f5b336e98358f2313c5\n",
      "  Stored in directory: c:\\users\\gabi\\appdata\\local\\pip\\cache\\wheels\\f9\\1b\\79\\5e399d671778e7a7770bc72053a60cac6c0a2abc3f548cd909\n",
      "Successfully built ecos scs\n",
      "Installing collected packages: qdldl, scs, osqp, ecos, cvxpy, PyPortfolioOpt\n",
      "Successfully installed PyPortfolioOpt-1.4.2 cvxpy-1.1.15 ecos-2.0.7.post1 osqp-0.6.2.post0 qdldl-0.1.5.post0 scs-2.1.4\n"
     ]
    }
   ],
   "source": [
    "!pip install PyPortfolioOpt"
   ]
  },
  {
   "cell_type": "code",
   "execution_count": 1,
   "id": "737da2cd-b641-41e2-8b24-a145e83f78b3",
   "metadata": {},
   "outputs": [],
   "source": [
    "import pandas as pd\n",
    "import pandas as pd \n",
    "import numpy as np\n",
    "import matplotlib.pyplot as plt\n",
    "import scipy.optimize as sco\n",
    "import seaborn as sn\n",
    "import datetime\n",
    "from math import sqrt\n",
    "from pandas_datareader import data as dt\n",
    "from pypfopt import EfficientFrontier\n",
    "from pypfopt import risk_models\n",
    "from pypfopt import expected_returns"
   ]
  },
  {
   "cell_type": "code",
   "execution_count": 2,
   "id": "aa0d62f0-2d6b-4523-af35-98b3817644cc",
   "metadata": {},
   "outputs": [],
   "source": [
    "# Definindo o dataframe de dados de preço de ativos do portfólio:\n",
    "precos = pd.DataFrame()\n",
    "\n",
    "# Definindo o período a ser utilizado\n",
    "inicio = datetime.datetime(2020, 1, 1)\n",
    "final = datetime.datetime(2021, 7, 1)\n",
    "\n",
    "# Definindo os ativos a serem utilizados (Indice BOVESPA):\n",
    "acoes = [\"ABEV3.SA\" , \"AZUL4.SA\" , \"B3SA3.SA\" , \"BBAS3.SA\" , \"BBDC3.SA\",  \"BBDC4.SA\" , \"BBSE3.SA\" , \"BEEF3.SA\", \n",
    "\"BPAC11.SA\", \"BRAP4.SA\" , \"BRDT3.SA\" , \"BRFS3.SA\" , \"BRKM5.SA\" , \"BRML3.SA\" , \"CCRO3.SA\" , \"CIEL3.SA\" ,\n",
    "\"CMIG4.SA\"  ,\"COGN3.SA\" , \"CPFE3.SA\" , \"CPLE6.SA\" , \"CRFB3.SA\" , \"CSAN3.SA\" , \"CSNA3.SA\" , \"CVCB3.SA\" , \"CYRE3.SA\" ,\n",
    "\"ECOR3.SA\"  ,\"EGIE3.SA\" , \"ELET3.SA\" , \"ELET6.SA\", \"EMBR3.SA\" , \"ENBR3.SA\" , \"ENEV3.SA\" , \"ENGI11.SA\", \"EQTL3.SA\" ,\n",
    "\"EZTC3.SA\"  ,\"FLRY3.SA\" , \"GGBR4.SA\" , \"GNDI3.SA\" , \"GOAU4.SA\" , \"GOLL4.SA\" , \"HAPV3.SA\" , \"HGTX3.SA\" , \"HYPE3.SA\" ,\n",
    "\"IGTA3.SA\"  ,\"IRBR3.SA\" , \"ITSA4.SA\" , \"ITUB4.SA\" , \"JBSS3.SA\" , \"JHSF3.SA\" , \"KLBN11.SA\", \"LAME4.SA\" , \"LCAM3.SA\" ,\n",
    "\"LREN3.SA\"  ,\"MGLU3.SA\" , \"MRFG3.SA\" , \"MRVE3.SA\" , \"MULT3.SA\" , \"NTCO3.SA\" , \"PCAR3.SA\" , \"PETR3.SA\" , \"PETR4.SA\" ,\n",
    "\"PRIO3.SA\"  ,\"QUAL3.SA\" , \"RADL3.SA\" , \"RAIL3.SA\" , \"RENT3.SA\" , \"SANB11.SA\", \"SBSP3.SA\" , \"SULA11.SA\", \"SUZB3.SA\" ,\n",
    "\"TAEE11.SA\" , \"TOTS3.SA\" , \"UGPA3.SA\" , \"USIM5.SA\" , \"VALE3.SA\" , \"VIVT3.SA\" ,  \"WEGE3.SA\" ,\"YDUQ3.SA\"]\n",
    "\n",
    "\n",
    "for i in acoes:\n",
    "    precos[i] = dt.get_data_yahoo(i, start = inicio, end = final)['Close']\n",
    "    \n",
    "precos.dropna(inplace=True)"
   ]
  },
  {
   "cell_type": "code",
   "execution_count": 12,
   "id": "eb01c95d-b41a-412a-af30-6a0b3f8f4a75",
   "metadata": {},
   "outputs": [],
   "source": [
    "mu = expected_returns.mean_historical_return(precos)\n",
    "S = risk_models.sample_cov(precos)"
   ]
  },
  {
   "cell_type": "code",
   "execution_count": 13,
   "id": "1d14b981-4b1d-46ef-8344-2c82bc4779cf",
   "metadata": {},
   "outputs": [
    {
     "name": "stdout",
     "output_type": "stream",
     "text": [
      "OrderedDict([('ABEV3.SA', 0.0), ('AZUL4.SA', 0.0), ('B3SA3.SA', 0.0), ('BBAS3.SA', 0.0), ('BBDC3.SA', 0.0), ('BBDC4.SA', 0.0), ('BBSE3.SA', 0.0), ('BEEF3.SA', 0.0), ('BPAC11.SA', 0.0), ('BRAP4.SA', 0.0), ('BRDT3.SA', 0.0), ('BRFS3.SA', 0.0), ('BRKM5.SA', 0.0), ('BRML3.SA', 0.0), ('CCRO3.SA', 0.0), ('CIEL3.SA', 0.0), ('CMIG4.SA', 0.0), ('COGN3.SA', 0.0), ('CPFE3.SA', 0.0), ('CPLE6.SA', 0.0), ('CRFB3.SA', 0.0), ('CSAN3.SA', 0.0), ('CSNA3.SA', 0.52702), ('CVCB3.SA', 0.0), ('CYRE3.SA', 0.0), ('ECOR3.SA', 0.0), ('EGIE3.SA', 0.0), ('ELET3.SA', 0.0), ('ELET6.SA', 0.0), ('EMBR3.SA', 0.0), ('ENBR3.SA', 0.0), ('ENEV3.SA', 0.0), ('ENGI11.SA', 0.0), ('EQTL3.SA', 0.0), ('EZTC3.SA', 0.0), ('FLRY3.SA', 0.0), ('GGBR4.SA', 0.0), ('GNDI3.SA', 0.0), ('GOAU4.SA', 0.0), ('GOLL4.SA', 0.0), ('HAPV3.SA', 0.0), ('HGTX3.SA', 0.0), ('HYPE3.SA', 0.0), ('IGTA3.SA', 0.0), ('IRBR3.SA', 0.0), ('ITSA4.SA', 0.0), ('ITUB4.SA', 0.0), ('JBSS3.SA', 0.0), ('JHSF3.SA', 0.0), ('KLBN11.SA', 0.0), ('LAME4.SA', 0.0), ('LCAM3.SA', 0.0), ('LREN3.SA', 0.0), ('MGLU3.SA', 0.0), ('MRFG3.SA', 0.0), ('MRVE3.SA', 0.0), ('MULT3.SA', 0.0), ('NTCO3.SA', 0.0), ('PCAR3.SA', 0.0), ('PETR3.SA', 0.0), ('PETR4.SA', 0.0), ('PRIO3.SA', 0.07271), ('QUAL3.SA', 0.0), ('RADL3.SA', 0.0), ('RAIL3.SA', 0.0), ('RENT3.SA', 0.0), ('SANB11.SA', 0.0), ('SBSP3.SA', 0.0), ('SULA11.SA', 0.0), ('SUZB3.SA', 0.03262), ('TAEE11.SA', 0.0), ('TOTS3.SA', 0.0), ('UGPA3.SA', 0.0), ('USIM5.SA', 0.0), ('VALE3.SA', 0.06947), ('VIVT3.SA', 0.0), ('WEGE3.SA', 0.29818), ('YDUQ3.SA', 0.0)])\n",
      "Expected annual return: 88.3%\n",
      "Annual volatility: 53.4%\n",
      "Sharpe Ratio: 1.62\n"
     ]
    },
    {
     "data": {
      "text/plain": [
       "(0.8830275917294821, 0.5340021593376987, 1.616150003587739)"
      ]
     },
     "execution_count": 13,
     "metadata": {},
     "output_type": "execute_result"
    }
   ],
   "source": [
    "ef = EfficientFrontier(mu, S)\n",
    "raw_weights = ef.max_sharpe()\n",
    "cleaned_weights = ef.clean_weights()\n",
    "ef.save_weights_to_file(\"weights.csv\")  # saves to file\n",
    "print(cleaned_weights)\n",
    "ef.portfolio_performance(verbose=True)"
   ]
  },
  {
   "cell_type": "code",
   "execution_count": 14,
   "id": "80b0920f-477b-491c-92fd-acc3a2a7a9db",
   "metadata": {},
   "outputs": [
    {
     "name": "stdout",
     "output_type": "stream",
     "text": [
      "Discrete allocation: {'CSNA3.SA': 121, 'WEGE3.SA': 87, 'PRIO3.SA': 35, 'VALE3.SA': 6, 'SUZB3.SA': 6}\n",
      "Funds remaining: $16.66\n"
     ]
    }
   ],
   "source": [
    "from pypfopt.discrete_allocation import DiscreteAllocation, get_latest_prices\n",
    "\n",
    "latest_prices = get_latest_prices(precos)\n",
    "\n",
    "da = DiscreteAllocation(cleaned_weights, latest_prices, total_portfolio_value=10000)\n",
    "allocation, leftover = da.greedy_portfolio()\n",
    "print(\"Discrete allocation:\", allocation)\n",
    "print(\"Funds remaining: ${:.2f}\".format(leftover))"
   ]
  },
  {
   "cell_type": "code",
   "execution_count": null,
   "id": "204c92f1-2cfa-4973-b489-f43465fc3492",
   "metadata": {},
   "outputs": [],
   "source": []
  }
 ],
 "metadata": {
  "kernelspec": {
   "display_name": "Python 3",
   "language": "python",
   "name": "python3"
  },
  "language_info": {
   "codemirror_mode": {
    "name": "ipython",
    "version": 3
   },
   "file_extension": ".py",
   "mimetype": "text/x-python",
   "name": "python",
   "nbconvert_exporter": "python",
   "pygments_lexer": "ipython3",
   "version": "3.8.8"
  }
 },
 "nbformat": 4,
 "nbformat_minor": 5
}
